{
  "nbformat": 4,
  "nbformat_minor": 0,
  "metadata": {
    "colab": {
      "name": "Truncate.ipynb",
      "provenance": []
    },
    "kernelspec": {
      "name": "python3",
      "display_name": "Python 3"
    }
  },
  "cells": [
    {
      "cell_type": "code",
      "metadata": {
        "id": "yQHY4RCJfgAP",
        "colab_type": "code",
        "colab": {}
      },
      "source": [
        "import io\n",
        "\n",
        "# https://stackoverflow.com/questions/250357/truncate-a-string-without-ending-in-the-middle-of-a-word\n",
        "\n",
        "def truncate(content, max_words=30, suffix='...'):\n",
        "    if len(content.split()) <= max_words:\n",
        "        return content\n",
        "    else:\n",
        "        return ' '.join(content.split(' ', max_words)[0:-1]) + suffix\n",
        "\n",
        "path_source = '/content/drive/My Drive/IFT6759-PROJECT2/data/split_train.lang1'\n",
        "\n",
        "lines_source = io.open(path_source, encoding='UTF-8').read().strip().split('\\n')\n",
        "\n",
        "lines_output = []\n",
        "\n",
        "for index, l in enumerate(lines_source):\n",
        "    lines_output.append(truncate(l, max_words=25, suffix='...'))    \n",
        "\n",
        "with open('/content/drive/My Drive/IFT6759-PROJECT2/data/split_train.lang1_truncated25', 'w') as f:\n",
        "  for item in lines_output:\n",
        "        f.write(\"%s\\n\" % item)\n",
        "\n"
      ],
      "execution_count": 0,
      "outputs": []
    }
  ]
}